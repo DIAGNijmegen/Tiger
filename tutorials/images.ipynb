{
 "cells": [
  {
   "cell_type": "markdown",
   "metadata": {
    "collapsed": true,
    "pycharm": {
     "name": "#%% md\n"
    }
   },
   "source": [
    "# Images and Metadata\n",
    "\n",
    "Loading and saving volumetric data like image or masks is a key component of any medical image analysis pipeline. A major\n",
    "difference to loading a JPG or PNG image is the associated metadata, such as information about the physical spacing between\n",
    "pixels and the orientation of the volume relative to the scanner, but also patient data etc. ITK combines pixel data and\n",
    "metadata into a single class so that the pixel data and the corresponding metadata are always represented as a single object.\n",
    "However, Tiger follows a different philosophy: pixel data is represented as numpy arrays and the corresponding metadata is\n",
    "a separate variable, usually an instance of the `tiger.io.ImageMetadata` class. Functions within Tiger therefore\n",
    "often ask for an \"image\" and a \"header\" object."
   ]
  },
  {
   "cell_type": "markdown",
   "source": [
    "## Reading medical image formats\n",
    "\n",
    "Most common data formats are supported (mha/mhd, nii/nii.gz, nrrd, tif, ...)."
   ],
   "metadata": {
    "collapsed": false,
    "pycharm": {
     "name": "#%% md\n"
    }
   }
  },
  {
   "cell_type": "code",
   "source": [
    "from tiger.io import read_image\n",
    "\n",
    "image, header = read_image(\"/path/to/image.mha\")\n",
    "mask, _ = read_image(\"/path/to/mask.mha\")"
   ],
   "metadata": {
    "collapsed": false,
    "pycharm": {
     "name": "#%%\n"
    }
   },
   "execution_count": null,
   "outputs": []
  },
  {
   "cell_type": "markdown",
   "source": [
    "The order of the axes of the pixel data array will be as intuitively expected (x, y, z) instead of reversed (z, y, x).\n",
    "\n",
    "DICOM images can be read either from a list of files or from a directory. In both cases, the slices will be sorted according\n",
    "to the standard DICOM coordinate system."
   ],
   "metadata": {
    "collapsed": false
   }
  },
  {
   "cell_type": "code",
   "source": [
    "from tiger.io import read_dicom, DicomReader\n",
    "\n",
    "# If there are multiple series, only one of them will be returned\n",
    "image, header = read_dicom([\"/path/to/slice1.dcm\", \"/path/to/slice2.dcm\"])\n",
    "\n",
    "# Iterate over all series in a directory\n",
    "reader = DicomReader()\n",
    "for image, header in reader(\"/path/to/dicom\"):\n",
    "    pass"
   ],
   "metadata": {
    "collapsed": false,
    "pycharm": {
     "name": "#%%\n"
    }
   },
   "execution_count": null,
   "outputs": []
  },
  {
   "cell_type": "markdown",
   "source": [
    "## Metadata\n",
    "\n",
    "The `tiger.io.ImageMetadata` class can store any kind of metadata, but there are only four items that will always\n",
    "be present and for which the class ensures that values are plausible. These are related to the physical coordinate space\n",
    "of the image:\n",
    "\n",
    "* Number of dimensions, i.e., whether the image is 2D, 3D, or 4D (ndim)\n",
    "* Pixel spacing (spacing)\n",
    "* Coordinates of the first pixel (0, 0, ...) in the world coordinate space (origin)\n",
    "* Orientation of the pixel data relative to the world coordinate space as a direction cosine matrix (direction)\n",
    "\n",
    "The class provides methods for transforming coordinates from indices to world coordinates and vice versa.\n",
    "\n",
    "## Writing medical image formats\n",
    "\n",
    "Saving images or masks to disk is simple. The `tiger.io.write_image` function will by default automatically make sure\n",
    "that the parent directories are created if necessary and that the image is stored in compressed form. These things can be\n",
    "disabled, but the general idea is that saving image data should be a painless experience that requires only a single command."
   ],
   "metadata": {
    "collapsed": false,
    "pycharm": {
     "name": "#%% md\n"
    }
   }
  },
  {
   "cell_type": "code",
   "source": [
    "from tiger.io import write_image\n",
    "\n",
    "write_image(\"/path/to/image.mha\", image, header)\n",
    "write_image(\"/path/to/mask.nii.gz\", mask)  # header is optional, will default to unit spacing etc."
   ],
   "metadata": {
    "collapsed": false,
    "pycharm": {
     "name": "#%%\n"
    }
   },
   "execution_count": null,
   "outputs": []
  },
  {
   "cell_type": "markdown",
   "source": [
    "\n",
    "## Converting to/from SimpleITK\n",
    "\n",
    "The Tiger combination of numpy array and metadata object can be converted into a single SimpleITK image object using the\n",
    "`tiger.io.image_to_sitk`. Likewise, SimpleITK images can be converted using `tiger.io.image_from_sitk`.\n",
    "\n",
    "Currently, additional metadata is not completely preserved though."
   ],
   "metadata": {
    "collapsed": false,
    "pycharm": {
     "name": "#%% md\n"
    }
   }
  }
 ],
 "metadata": {
  "kernelspec": {
   "display_name": "Python 3",
   "language": "python",
   "name": "python3"
  },
  "language_info": {
   "codemirror_mode": {
    "name": "ipython",
    "version": 2
   },
   "file_extension": ".py",
   "mimetype": "text/x-python",
   "name": "python",
   "nbconvert_exporter": "python",
   "pygments_lexer": "ipython2",
   "version": "2.7.6"
  }
 },
 "nbformat": 4,
 "nbformat_minor": 0
}